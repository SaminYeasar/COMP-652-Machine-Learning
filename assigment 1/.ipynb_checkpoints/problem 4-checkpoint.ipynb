{
 "cells": [
  {
   "cell_type": "code",
   "execution_count": 1,
   "metadata": {},
   "outputs": [],
   "source": [
    "import pandas as pd\n",
    "import numpy as np\n",
    "import matplotlib.pyplot as plt"
   ]
  },
  {
   "cell_type": "code",
   "execution_count": 182,
   "metadata": {},
   "outputs": [],
   "source": [
    "df1 = pd.read_csv('hw1-q1x.csv',delim_whitespace =True,header=None,dtype=np.float)\n",
    "df2 = pd.read_csv('hw1-q1y.csv',delim_whitespace =True,header=None,dtype=np.float)\n",
    "Data=pd.concat([df1,df2],axis=1)\n",
    "Data.columns=['X1','X2','Y']\n",
    "no_data = df1.shape[0]"
   ]
  },
  {
   "cell_type": "code",
   "execution_count": 183,
   "metadata": {},
   "outputs": [
    {
     "data": {
      "text/html": [
       "<div>\n",
       "<style scoped>\n",
       "    .dataframe tbody tr th:only-of-type {\n",
       "        vertical-align: middle;\n",
       "    }\n",
       "\n",
       "    .dataframe tbody tr th {\n",
       "        vertical-align: top;\n",
       "    }\n",
       "\n",
       "    .dataframe thead th {\n",
       "        text-align: right;\n",
       "    }\n",
       "</style>\n",
       "<table border=\"1\" class=\"dataframe\">\n",
       "  <thead>\n",
       "    <tr style=\"text-align: right;\">\n",
       "      <th></th>\n",
       "      <th>X1</th>\n",
       "      <th>X2</th>\n",
       "      <th>Y</th>\n",
       "    </tr>\n",
       "  </thead>\n",
       "  <tbody>\n",
       "    <tr>\n",
       "      <th>0</th>\n",
       "      <td>-1.032700</td>\n",
       "      <td>4.998879</td>\n",
       "      <td>51.908720</td>\n",
       "    </tr>\n",
       "    <tr>\n",
       "      <th>1</th>\n",
       "      <td>6.181485</td>\n",
       "      <td>4.385308</td>\n",
       "      <td>35.222914</td>\n",
       "    </tr>\n",
       "    <tr>\n",
       "      <th>2</th>\n",
       "      <td>6.175471</td>\n",
       "      <td>-1.663962</td>\n",
       "      <td>1.306808</td>\n",
       "    </tr>\n",
       "    <tr>\n",
       "      <th>3</th>\n",
       "      <td>5.224396</td>\n",
       "      <td>-1.311939</td>\n",
       "      <td>-5.297110</td>\n",
       "    </tr>\n",
       "    <tr>\n",
       "      <th>4</th>\n",
       "      <td>-0.501346</td>\n",
       "      <td>1.195997</td>\n",
       "      <td>2.037304</td>\n",
       "    </tr>\n",
       "  </tbody>\n",
       "</table>\n",
       "</div>"
      ],
      "text/plain": [
       "         X1        X2          Y\n",
       "0 -1.032700  4.998879  51.908720\n",
       "1  6.181485  4.385308  35.222914\n",
       "2  6.175471 -1.663962   1.306808\n",
       "3  5.224396 -1.311939  -5.297110\n",
       "4 -0.501346  1.195997   2.037304"
      ]
     },
     "execution_count": 183,
     "metadata": {},
     "output_type": "execute_result"
    }
   ],
   "source": [
    "Data.head()"
   ]
  },
  {
   "cell_type": "code",
   "execution_count": 184,
   "metadata": {},
   "outputs": [
    {
     "data": {
      "text/plain": [
       "numpy.float64"
      ]
     },
     "execution_count": 184,
     "metadata": {},
     "output_type": "execute_result"
    }
   ],
   "source": [
    "type(Data.X1[0])"
   ]
  },
  {
   "cell_type": "code",
   "execution_count": 185,
   "metadata": {},
   "outputs": [
    {
     "data": {
      "text/html": [
       "<div>\n",
       "<style scoped>\n",
       "    .dataframe tbody tr th:only-of-type {\n",
       "        vertical-align: middle;\n",
       "    }\n",
       "\n",
       "    .dataframe tbody tr th {\n",
       "        vertical-align: top;\n",
       "    }\n",
       "\n",
       "    .dataframe thead th {\n",
       "        text-align: right;\n",
       "    }\n",
       "</style>\n",
       "<table border=\"1\" class=\"dataframe\">\n",
       "  <thead>\n",
       "    <tr style=\"text-align: right;\">\n",
       "      <th></th>\n",
       "      <th>X1</th>\n",
       "      <th>X2</th>\n",
       "      <th>Y</th>\n",
       "    </tr>\n",
       "  </thead>\n",
       "  <tbody>\n",
       "    <tr>\n",
       "      <th>0</th>\n",
       "      <td>-3.906313</td>\n",
       "      <td>2.040712</td>\n",
       "      <td>26.107330</td>\n",
       "    </tr>\n",
       "    <tr>\n",
       "      <th>1</th>\n",
       "      <td>3.307872</td>\n",
       "      <td>1.427141</td>\n",
       "      <td>9.421524</td>\n",
       "    </tr>\n",
       "    <tr>\n",
       "      <th>2</th>\n",
       "      <td>3.301858</td>\n",
       "      <td>-4.622128</td>\n",
       "      <td>-24.494581</td>\n",
       "    </tr>\n",
       "    <tr>\n",
       "      <th>3</th>\n",
       "      <td>2.350783</td>\n",
       "      <td>-4.270105</td>\n",
       "      <td>-31.098500</td>\n",
       "    </tr>\n",
       "    <tr>\n",
       "      <th>4</th>\n",
       "      <td>-3.374959</td>\n",
       "      <td>-1.762169</td>\n",
       "      <td>-23.764086</td>\n",
       "    </tr>\n",
       "  </tbody>\n",
       "</table>\n",
       "</div>"
      ],
      "text/plain": [
       "         X1        X2          Y\n",
       "0 -3.906313  2.040712  26.107330\n",
       "1  3.307872  1.427141   9.421524\n",
       "2  3.301858 -4.622128 -24.494581\n",
       "3  2.350783 -4.270105 -31.098500\n",
       "4 -3.374959 -1.762169 -23.764086"
      ]
     },
     "execution_count": 185,
     "metadata": {},
     "output_type": "execute_result"
    }
   ],
   "source": [
    "#Data centering\n",
    "\n",
    "Cen_Data = Data - Data.mean(axis=0) #axis=0 means row wise, rows are example here\n",
    "Cen_Data.head()"
   ]
  },
  {
   "cell_type": "code",
   "execution_count": 186,
   "metadata": {},
   "outputs": [
    {
     "name": "stdout",
     "output_type": "stream",
     "text": [
      "(80, 2)\n",
      "(20, 2)\n"
     ]
    }
   ],
   "source": [
    "# splitting training-testing data\n",
    "\n",
    "from sklearn.model_selection import train_test_split\n",
    "train_data, test_data = train_test_split(Cen_Data, test_size=0.2,random_state=0) #randomly split train-test\n",
    "\n",
    "feat_no = train_data.shape[1] - 1 # last column is for labels\n",
    "\n",
    "Xm_train = train_data.iloc[:,:feat_no].values\n",
    "y_train = train_data.iloc[:,feat_no:].values\n",
    "\n",
    "Xm_test = test_data.iloc[:,:feat_no].values\n",
    "y_test = test_data.iloc[:,feat_no:].values\n",
    "\n",
    "\n",
    "print(Xm_train.shape)\n",
    "print(Xm_test.shape)"
   ]
  },
  {
   "cell_type": "code",
   "execution_count": null,
   "metadata": {},
   "outputs": [],
   "source": [
    "'''\n",
    "fix_dis = np.random.RandomState(32)\n",
    "msk = fix_dis.rand(no_data) < 0.80\n",
    "print('msk:',msk)\n",
    "# splitting training-testing data\n",
    "xtrain = Data.iloc[:,0:2][msk]\n",
    "ytrain = Data.iloc[:,2:][msk]\n",
    "\n",
    "xtest = Data.iloc[:,0:2][~msk]\n",
    "ytest = Data.iloc[:,2:][~msk]\n",
    "'''"
   ]
  },
  {
   "cell_type": "markdown",
   "metadata": {},
   "source": [
    "## L2 regularization "
   ]
  },
  {
   "cell_type": "code",
   "execution_count": 205,
   "metadata": {},
   "outputs": [],
   "source": [
    "# manual code to compute W  \n",
    "def computeW (Xm_train,y_train,feat_no,lmbda):\n",
    "    a = np.dot(Xm_train.T,Xm_train) + lmbda*np.eye(feat_no)\n",
    "    a = np.linalg.pinv(a)\n",
    "    W = np.dot(a, np.dot(Xm_train.T,y_train))\n",
    "    return W"
   ]
  },
  {
   "cell_type": "code",
   "execution_count": 247,
   "metadata": {},
   "outputs": [
    {
     "name": "stdout",
     "output_type": "stream",
     "text": [
      "lmbda: [[1.e+00 1.e+01 1.e+02 1.e+03 1.e+04 1.e+05 1.e+06]]\n"
     ]
    }
   ],
   "source": [
    "# create lambda parameter vector\n",
    "#lmbda = np.array([0])\n",
    "lmbda = []\n",
    "l = 0.1\n",
    "while l <= 10**5:\n",
    "    l = l*10\n",
    "    lmbda = np.append(lmbda, l)\n",
    "lmbda = lmbda.reshape(1,-1)\n",
    "print('lmbda:',lmbda)    "
   ]
  },
  {
   "cell_type": "code",
   "execution_count": 207,
   "metadata": {},
   "outputs": [
    {
     "data": {
      "text/plain": [
       "array([[1.e+00, 1.e+01, 1.e+02, 1.e+03, 1.e+04, 1.e+05, 1.e+06]])"
      ]
     },
     "execution_count": 207,
     "metadata": {},
     "output_type": "execute_result"
    }
   ],
   "source": [
    "lmbda"
   ]
  },
  {
   "cell_type": "code",
   "execution_count": 208,
   "metadata": {},
   "outputs": [
    {
     "data": {
      "text/html": [
       "<div>\n",
       "<style scoped>\n",
       "    .dataframe tbody tr th:only-of-type {\n",
       "        vertical-align: middle;\n",
       "    }\n",
       "\n",
       "    .dataframe tbody tr th {\n",
       "        vertical-align: top;\n",
       "    }\n",
       "\n",
       "    .dataframe thead th {\n",
       "        text-align: right;\n",
       "    }\n",
       "</style>\n",
       "<table border=\"1\" class=\"dataframe\">\n",
       "  <thead>\n",
       "    <tr style=\"text-align: right;\">\n",
       "      <th></th>\n",
       "      <th>0</th>\n",
       "    </tr>\n",
       "  </thead>\n",
       "  <tbody>\n",
       "    <tr>\n",
       "      <th>0</th>\n",
       "      <td>0.0</td>\n",
       "    </tr>\n",
       "    <tr>\n",
       "      <th>1</th>\n",
       "      <td>0.0</td>\n",
       "    </tr>\n",
       "  </tbody>\n",
       "</table>\n",
       "</div>"
      ],
      "text/plain": [
       "     0\n",
       "0  0.0\n",
       "1  0.0"
      ]
     },
     "execution_count": 208,
     "metadata": {},
     "output_type": "execute_result"
    }
   ],
   "source": [
    "pd.DataFrame( np.zeros((feat_no,len(lmbda))) )"
   ]
  },
  {
   "cell_type": "code",
   "execution_count": 209,
   "metadata": {},
   "outputs": [
    {
     "data": {
      "text/html": [
       "<div>\n",
       "<style scoped>\n",
       "    .dataframe tbody tr th:only-of-type {\n",
       "        vertical-align: middle;\n",
       "    }\n",
       "\n",
       "    .dataframe tbody tr th {\n",
       "        vertical-align: top;\n",
       "    }\n",
       "\n",
       "    .dataframe thead th {\n",
       "        text-align: right;\n",
       "    }\n",
       "</style>\n",
       "<table border=\"1\" class=\"dataframe\">\n",
       "  <thead>\n",
       "    <tr style=\"text-align: right;\">\n",
       "      <th></th>\n",
       "      <th>0</th>\n",
       "      <th>1</th>\n",
       "      <th>2</th>\n",
       "      <th>3</th>\n",
       "      <th>4</th>\n",
       "      <th>5</th>\n",
       "      <th>6</th>\n",
       "    </tr>\n",
       "  </thead>\n",
       "  <tbody>\n",
       "    <tr>\n",
       "      <th>0</th>\n",
       "      <td>0.0</td>\n",
       "      <td>0.0</td>\n",
       "      <td>0.0</td>\n",
       "      <td>0.0</td>\n",
       "      <td>0.0</td>\n",
       "      <td>0.0</td>\n",
       "      <td>0.0</td>\n",
       "    </tr>\n",
       "    <tr>\n",
       "      <th>1</th>\n",
       "      <td>0.0</td>\n",
       "      <td>0.0</td>\n",
       "      <td>0.0</td>\n",
       "      <td>0.0</td>\n",
       "      <td>0.0</td>\n",
       "      <td>0.0</td>\n",
       "      <td>0.0</td>\n",
       "    </tr>\n",
       "  </tbody>\n",
       "</table>\n",
       "</div>"
      ],
      "text/plain": [
       "     0    1    2    3    4    5    6\n",
       "0  0.0  0.0  0.0  0.0  0.0  0.0  0.0\n",
       "1  0.0  0.0  0.0  0.0  0.0  0.0  0.0"
      ]
     },
     "execution_count": 209,
     "metadata": {},
     "output_type": "execute_result"
    }
   ],
   "source": [
    "W_vec = pd.DataFrame(np.zeros((feat_no,lmbda.shape[1])))\n",
    "W_vec"
   ]
  },
  {
   "cell_type": "code",
   "execution_count": 210,
   "metadata": {},
   "outputs": [
    {
     "ename": "AttributeError",
     "evalue": "'numpy.ndarray' object has no attribute 'sj'",
     "output_type": "error",
     "traceback": [
      "\u001b[0;31m---------------------------------------------------------------------------\u001b[0m",
      "\u001b[0;31mAttributeError\u001b[0m                            Traceback (most recent call last)",
      "\u001b[0;32m<ipython-input-210-1205718390db>\u001b[0m in \u001b[0;36m<module>\u001b[0;34m()\u001b[0m\n\u001b[0;32m----> 1\u001b[0;31m \u001b[0mlmbda\u001b[0m\u001b[0;34m.\u001b[0m\u001b[0msj\u001b[0m\u001b[0;34m\u001b[0m\u001b[0m\n\u001b[0m",
      "\u001b[0;31mAttributeError\u001b[0m: 'numpy.ndarray' object has no attribute 'sj'"
     ]
    }
   ],
   "source": []
  },
  {
   "cell_type": "code",
   "execution_count": 242,
   "metadata": {},
   "outputs": [
    {
     "data": {
      "text/plain": [
       "10"
      ]
     },
     "execution_count": 242,
     "metadata": {},
     "output_type": "execute_result"
    }
   ],
   "source": [
    "phi_train.shape[1]"
   ]
  },
  {
   "cell_type": "code",
   "execution_count": 211,
   "metadata": {},
   "outputs": [],
   "source": [
    "# lmbda has to be numpy array\n",
    "def RMSEresult(Xm_train,y_train,Xm_test,y_test,lmbda):\n",
    "    from sklearn.metrics import mean_squared_error\n",
    "    from sklearn import datasets, linear_model\n",
    "    \n",
    "    feat_no = Xm_train.shape[1]\n",
    "    #W_vec = np.zeros( ( 2,len(lmbda) ) )\n",
    "    W_vec = pd.DataFrame( np.zeros(( feat_no,lmbda.shape[1] )) )\n",
    "    \n",
    "    RMSE_traindata = []\n",
    "    RMSE_testdata = []\n",
    "    \n",
    "    for i in range (lmbda.shape[1]):\n",
    "        \n",
    "    #####  manual code to compute W ######## \n",
    "        #W = computeW (Xm_train,y_train,feat_no,lmbda[i])\n",
    "        #W_vec[i] = W        \n",
    "        #Hypothesis_train = np.dot(Xm_train,W)\n",
    "        #Hypothesis_test = np.dot(Xm_test,W)\n",
    "        \n",
    "        \n",
    "    ##### using built-in model ######  \n",
    "        clf = linear_model.Ridge(alpha=lmbda[0,i])\n",
    "        clf.fit(Xm_train, y_train)\n",
    "        Hypothesis_train = clf.predict (Xm_train)\n",
    "        Hypothesis_test = clf.predict (Xm_test)\n",
    "        \n",
    "        W=np.reshape(clf.coef_,(-1,1))       \n",
    "        W_vec[i] = W\n",
    "        \n",
    "        \n",
    "        RMSE_traindata = np.append ( RMSE_traindata , np.sqrt( mean_squared_error(y_train, Hypothesis_train) ) )\n",
    "        RMSE_testdata = np.append ( RMSE_testdata , np.sqrt( mean_squared_error(y_test, Hypothesis_test) ) )\n",
    "        \n",
    "    return (RMSE_traindata,RMSE_testdata, W_vec)"
   ]
  },
  {
   "cell_type": "code",
   "execution_count": 212,
   "metadata": {},
   "outputs": [],
   "source": [
    "RMSE_traindata, RMSE_testdata,W_vec = RMSEresult(Xm_train,y_train,Xm_test,y_test,lmbda)"
   ]
  },
  {
   "cell_type": "code",
   "execution_count": 213,
   "metadata": {},
   "outputs": [
    {
     "data": {
      "image/png": "[encoded data removed]",
      "text/plain": [
       "<Figure size 432x288 with 1 Axes>"
      ]
     },
     "metadata": {},
     "output_type": "display_data"
    }
   ],
   "source": [
    "# Graph1: RMSE for training data and testing data\n",
    "\n",
    "#plt.loglog(lmbda,RMSE_testdata,label='testing data')\n",
    "#plt.loglog(lmbda,RMSE_traindata,label='training data')\n",
    "\n",
    "plt.semilogx(RMSE_traindata,label='training data')\n",
    "plt.semilogx(RMSE_testdata,label='testing data')\n",
    "plt.xlabel(' lambda parameter ')\n",
    "plt.ylabel('RMSE')\n",
    "plt.legend()\n",
    "#plt.savefig('D:\\\\University materials\\\\Winter 2018\\\\Applied ML\\\\winter 2018\\\\Assignments\\\\Kaggle\\\\my codes\\\\train_validation_H3.png')\n",
    "plt.show()"
   ]
  },
  {
   "cell_type": "code",
   "execution_count": 214,
   "metadata": {},
   "outputs": [
    {
     "data": {
      "image/png": "[encoded data removed]",
      "text/plain": [
       "<Figure size 432x288 with 1 Axes>"
      ]
     },
     "metadata": {},
     "output_type": "display_data"
    }
   ],
   "source": [
    "# Graph2: L2 norm of weight vectors\n",
    "\n",
    "W_L2norm = np.sum(W_vec**2,axis=0)\n",
    "plt.semilogx( W_L2norm.values )\n",
    "plt.xlabel ('lambda parameter')\n",
    "plt.ylabel ('L2 norm of Weight vector')\n",
    "plt.show()"
   ]
  },
  {
   "cell_type": "code",
   "execution_count": 215,
   "metadata": {},
   "outputs": [
    {
     "data": {
      "image/png": "[encoded data removed]",
      "text/plain": [
       "<Figure size 432x288 with 1 Axes>"
      ]
     },
     "metadata": {},
     "output_type": "display_data"
    }
   ],
   "source": [
    "#Graph3: Actual values of weight obtained\n",
    "\n",
    "plt.semilogx( W_vec.loc[[0], : ].values[0] ,label = 'W1')\n",
    "plt.semilogx( W_vec.loc[[1], : ].values[0] ,label = 'W2')\n",
    "plt.xlabel ('lambda parameter')\n",
    "plt.ylabel ('Weight values')\n",
    "plt.legend()\n",
    "plt.show()"
   ]
  },
  {
   "cell_type": "code",
   "execution_count": null,
   "metadata": {},
   "outputs": [],
   "source": []
  },
  {
   "cell_type": "markdown",
   "metadata": {},
   "source": [
    "## Answer 1(c)"
   ]
  },
  {
   "cell_type": "code",
   "execution_count": 217,
   "metadata": {},
   "outputs": [],
   "source": [
    "def ComputeValid_VS_lmbda(Xm_train,y_train,kfold,lmbda):\n",
    "    dlen = Xm_train.shape[0]\n",
    "    inc = dlen/kfold\n",
    "\n",
    "    RMSE_traindata = np.zeros([kfold,lmbda.shape[1]])\n",
    "    RMSE_validdata = np.zeros([kfold,lmbda.shape[1]])\n",
    "    valid_score = np.zeros([])\n",
    "\n",
    "    for i in range (kfold):\n",
    "        # mask the data to be used as validation\n",
    "        #############################################################################\n",
    "        msk = np.isin (np.linspace(1,dlen,dlen), np.linspace(1+inc*i,inc+inc*i,inc)) \n",
    "        ##############################################################################\n",
    "        train_X = Xm_train[~msk] \n",
    "        train_y = y_train[~msk]\n",
    "\n",
    "        valid_X = Xm_train[msk] \n",
    "        valid_y = y_train[msk]\n",
    "\n",
    "        feat_on = train_X.shape[1]\n",
    "\n",
    "        RMSE_traindata[i,:], RMSE_validdata[i,:], W_vec = RMSEresult(train_X,train_y,valid_X,valid_y,lmbda)\n",
    "        #train_score = np.append(train_score ,RMSE_traindata)\n",
    "        #valid_score = valid_score + RMSE_validdata\n",
    "\n",
    "    #valid_score = np.mean(RMSE_validdata,axis=0)\n",
    "    #print('Mean validation score for different lambda',valid_score)    \n",
    "    return RMSE_validdata\n",
    "     "
   ]
  },
  {
   "cell_type": "code",
   "execution_count": 149,
   "metadata": {},
   "outputs": [
    {
     "name": "stdout",
     "output_type": "stream",
     "text": [
      "RMSE_validdata [[13.47567476 13.54748352 14.9351663  24.1744735  29.81373997 30.62807073\n",
      "  30.71303758]\n",
      " [15.34016853 14.97058622 13.2800483  20.59921721 26.87945912 27.78957762\n",
      "  27.88445999]\n",
      " [19.27416977 19.64493387 23.00851717 34.78690746 40.75372136 41.58719368\n",
      "  41.67382411]\n",
      " [14.26335717 13.93336989 12.36878262 19.02707594 25.07589224 25.96561689\n",
      "  26.05854757]\n",
      " [12.44469709 12.61059742 14.58092399 24.12485979 29.607462   30.39614788\n",
      "  30.47842596]]\n",
      "Valid_score [14.95961346 14.94139418 15.63468768 24.54250678 30.42605494 31.27332136\n",
      " 31.36165904]\n"
     ]
    },
    {
     "name": "stderr",
     "output_type": "stream",
     "text": [
      "/home/samin/environments/py36_env/lib/python3.6/site-packages/ipykernel_launcher.py:11: DeprecationWarning: object of type <class 'float'> cannot be safely interpreted as an integer.\n",
      "  # This is added back by InteractiveShellApp.init_path()\n"
     ]
    }
   ],
   "source": [
    "kfold=5\n",
    "RMSE_validdata = ComputeValid_VS_lmbda(Xm_train,y_train,kfold,lmbda)\n",
    "print('RMSE_validdata',RMSE_validdata)\n",
    "\n",
    "valid_score = np.mean(RMSE_validdata,axis=0)\n",
    "print('Valid_score',valid_score)"
   ]
  },
  {
   "cell_type": "code",
   "execution_count": 152,
   "metadata": {},
   "outputs": [
    {
     "data": {
      "text/plain": [
       "10.0"
      ]
     },
     "execution_count": 152,
     "metadata": {},
     "output_type": "execute_result"
    }
   ],
   "source": [
    "lmbda[ 0, np.argmin(valid_score) ]"
   ]
  },
  {
   "cell_type": "markdown",
   "metadata": {},
   "source": [
    "## report:\n",
    "* as from validation preformance we get lowest avg RMSE score (14.94) for $\\lambda$ = 10, this would be the best value of lambda.\n",
    "* best value for lambda is same as we found at 1(b)\n"
   ]
  },
  {
   "cell_type": "code",
   "execution_count": 153,
   "metadata": {},
   "outputs": [
    {
     "data": {
      "text/plain": [
       "array([14.3766377 , 14.3873995 , 15.13771688, 23.64352489, 30.29216581,\n",
       "       31.32725996, 31.43633903])"
      ]
     },
     "execution_count": 153,
     "metadata": {},
     "output_type": "execute_result"
    }
   ],
   "source": [
    "RMSE_traindata"
   ]
  },
  {
   "cell_type": "code",
   "execution_count": 154,
   "metadata": {},
   "outputs": [
    {
     "data": {
      "text/plain": [
       "array([[13.47567476, 13.54748352, 14.9351663 , 24.1744735 , 29.81373997,\n",
       "        30.62807073, 30.71303758],\n",
       "       [15.34016853, 14.97058622, 13.2800483 , 20.59921721, 26.87945912,\n",
       "        27.78957762, 27.88445999],\n",
       "       [19.27416977, 19.64493387, 23.00851717, 34.78690746, 40.75372136,\n",
       "        41.58719368, 41.67382411],\n",
       "       [14.26335717, 13.93336989, 12.36878262, 19.02707594, 25.07589224,\n",
       "        25.96561689, 26.05854757],\n",
       "       [12.44469709, 12.61059742, 14.58092399, 24.12485979, 29.607462  ,\n",
       "        30.39614788, 30.47842596]])"
      ]
     },
     "execution_count": 154,
     "metadata": {},
     "output_type": "execute_result"
    }
   ],
   "source": [
    "RMSE_validdata"
   ]
  },
  {
   "cell_type": "markdown",
   "metadata": {},
   "source": [
    "## 1(d)"
   ]
  },
  {
   "cell_type": "code",
   "execution_count": 155,
   "metadata": {},
   "outputs": [],
   "source": [
    "y_train_sorted = np.sort(y_train,axis=0)\n",
    "msk = y_train.argsort(axis=0)\n",
    "Xm_train_sorted = Xm_train[msk]                 # dimension of Xm_sort becomes (80,1,2)\n",
    "Xm_train_sorted = Xm_train_sorted.reshape(80,2)       # we correct the dimension"
   ]
  },
  {
   "cell_type": "code",
   "execution_count": 156,
   "metadata": {},
   "outputs": [
    {
     "name": "stdout",
     "output_type": "stream",
     "text": [
      "sorted RMSE_validdata [[11.54489747 11.50342511 13.93778734 30.19311161 38.01432337 39.06312002\n",
      "  39.17152283]\n",
      " [16.4863114  16.04816594 13.96479535 21.79382655 28.53853895 29.50948496\n",
      "  29.61062187]\n",
      " [17.39674343 17.09073982 14.75949199 10.63044805 11.31037754 11.56241272\n",
      "  11.59061829]\n",
      " [10.48249146 10.14404128  7.8595123  10.53543175 15.44787632 16.20159252\n",
      "  16.2806769 ]\n",
      " [38.69069072 39.70674073 46.98745039 61.99918548 67.07686677 67.70908977\n",
      "  67.77387314]]\n",
      "sorted_valid_score  [18.9202269  18.89862258 19.50180747 27.03040069 32.07759659 32.80914\n",
      " 32.8854626 ]\n"
     ]
    },
    {
     "name": "stderr",
     "output_type": "stream",
     "text": [
      "/home/samin/environments/py36_env/lib/python3.6/site-packages/ipykernel_launcher.py:11: DeprecationWarning: object of type <class 'float'> cannot be safely interpreted as an integer.\n",
      "  # This is added back by InteractiveShellApp.init_path()\n"
     ]
    }
   ],
   "source": [
    "kfold=5\n",
    "sorted_RMSE_validdata= ComputeValid_VS_lmbda(Xm_train_sorted,y_train_sorted,kfold,lmbda)\n",
    "print('sorted RMSE_validdata',sorted_RMSE_validdata)\n",
    "\n",
    "sorted_valid_score  = np.mean(sorted_RMSE_validdata,axis=0)\n",
    "print('sorted_valid_score ',sorted_valid_score )"
   ]
  },
  {
   "cell_type": "markdown",
   "metadata": {},
   "source": [
    "## report  \n",
    "* clearly different data has different varience\n"
   ]
  },
  {
   "cell_type": "markdown",
   "metadata": {},
   "source": [
    "## 1(e)"
   ]
  },
  {
   "cell_type": "code",
   "execution_count": 177,
   "metadata": {},
   "outputs": [
    {
     "name": "stdout",
     "output_type": "stream",
     "text": [
      "[[-1.  -0.5  0.   0.5  1. ]]\n",
      "(1, 5)\n"
     ]
    }
   ],
   "source": [
    "mu=np.linspace(-1,1,5).reshape(1,-1)\n",
    "print(mu)\n",
    "print(mu.shape)"
   ]
  },
  {
   "cell_type": "code",
   "execution_count": 227,
   "metadata": {},
   "outputs": [],
   "source": [
    "sigma_sqr = np.array([0.1,0.5,1,5]).reshape(1,-1)"
   ]
  },
  {
   "cell_type": "markdown",
   "metadata": {},
   "source": [
    "$ \\phi_j(X) = \\exp^{-(\\frac{(X-\\mu_j)^2}{\\sigma^2})}$\n",
    "* $\\mu_j$ controls the position along x-axis and varies from (-1,1). \n",
    "* $\\sigma$ controls width/spacing"
   ]
  },
  {
   "cell_type": "code",
   "execution_count": 178,
   "metadata": {},
   "outputs": [],
   "source": [
    "def gaussian_basis (X,mu,sigma_sqr):\n",
    "    a = X.repeat(mu.shape[1],axis=1) \n",
    "    b = np.tile(mu,X.shape[1])\n",
    "    psi  = np.exp ( (-1)*( (a-b)**2/(sigma_sqr) ) )# or X[:,np.newaxis] - w\n",
    "    return psi"
   ]
  },
  {
   "cell_type": "markdown",
   "metadata": {},
   "source": [
    "## 1(f)"
   ]
  },
  {
   "cell_type": "code",
   "execution_count": 233,
   "metadata": {},
   "outputs": [
    {
     "name": "stdout",
     "output_type": "stream",
     "text": [
      "(1, 1)\n"
     ]
    }
   ],
   "source": [
    "# no regularization \n",
    "lmbda  = np.array([0])\n",
    "lmbda = lmbda.reshape(1,-1)\n",
    "print(lmbda.shape)"
   ]
  },
  {
   "cell_type": "code",
   "execution_count": 243,
   "metadata": {},
   "outputs": [],
   "source": [
    "#RMSE_validdata = {}\n",
    "RMSE_traindata = {}\n",
    "RMSE_testdata = {}\n",
    "W_vec = {}\n",
    "for l in range (sigma_sqr.shape[1]):\n",
    "    phi_train = gaussian_basis (Xm_train,mu,sigma_sqr[0,l])\n",
    "    phi_test = gaussian_basis (Xm_test,mu,sigma_sqr[0,l])\n",
    "    \n",
    "    RMSE_traindata[str(l)], RMSE_testdata[str(l)],W_vec[str(l)] = RMSEresult(phi_train,y_train,phi_test,y_test,lmbda)\n",
    "    \n",
    "    #RMSE_validdata[str(l)] = ComputeValid_VS_lmbda(phi_train,y_train,kfold,lmbda)"
   ]
  },
  {
   "cell_type": "code",
   "execution_count": 244,
   "metadata": {},
   "outputs": [
    {
     "data": {
      "text/plain": [
       "{'0': array([33.38472325]),\n",
       " '1': array([35.29648967]),\n",
       " '2': array([34.74114663]),\n",
       " '3': array([17.83859976])}"
      ]
     },
     "execution_count": 244,
     "metadata": {},
     "output_type": "execute_result"
    }
   ],
   "source": [
    " RMSE_testdata"
   ]
  },
  {
   "cell_type": "code",
   "execution_count": 245,
   "metadata": {},
   "outputs": [
    {
     "data": {
      "text/plain": [
       "{'0': array([29.83595627]),\n",
       " '1': array([28.50571728]),\n",
       " '2': array([26.61406363]),\n",
       " '3': array([13.54854127])}"
      ]
     },
     "execution_count": 245,
     "metadata": {},
     "output_type": "execute_result"
    }
   ],
   "source": [
    " RMSE_traindata"
   ]
  },
  {
   "cell_type": "code",
   "execution_count": null,
   "metadata": {},
   "outputs": [],
   "source": [
    "####################################################################################################\n",
    "\n",
    "\n",
    "\n",
    "###################################################################################"
   ]
  },
  {
   "cell_type": "code",
   "execution_count": 5,
   "metadata": {},
   "outputs": [],
   "source": [
    "from scipy.stats import beta"
   ]
  },
  {
   "cell_type": "code",
   "execution_count": 26,
   "metadata": {},
   "outputs": [
    {
     "data": {
      "image/png": "[encoded data removed]",
      "text/plain": [
       "<Figure size 432x288 with 1 Axes>"
      ]
     },
     "metadata": {},
     "output_type": "display_data"
    }
   ],
   "source": [
    "\n",
    "a = 50\n",
    "b = 50\n",
    "theta = np.arange(0.01,1,0.01)\n",
    "y = beta.pdf (theta,a,b)\n",
    "plt.plot(theta,y)\n",
    "plt.title('Beta: a=%.1f .b=%.1f' % (a,b))\n",
    "plt.xlabel('$\\\\theta$')\n",
    "plt.ylabel('Probability density')\n",
    "plt.show()"
   ]
  },
  {
   "cell_type": "markdown",
   "metadata": {},
   "source": [
    "posterior mean $\\mathbb{E}[\\theta] = \\frac{\\alpha}{\\alpha+\\beta}$ "
   ]
  },
  {
   "cell_type": "code",
   "execution_count": 29,
   "metadata": {},
   "outputs": [
    {
     "data": {
      "text/plain": [
       "array(0.5)"
      ]
     },
     "execution_count": 29,
     "metadata": {},
     "output_type": "execute_result"
    }
   ],
   "source": [
    "mean = beta.stats(a,b, moments='m')\n",
    "mean"
   ]
  },
  {
   "cell_type": "markdown",
   "metadata": {},
   "source": [
    "* For infintely large data sets Bayesian and maximum likelihood  results  will agree. \n",
    "* For finite data sets, posterior mean for $\\theta$ always lies between the prior mean and maximum likelihood estimation of $\\theta$.\n",
    "\n",
    "Thus, Maximum likelihood estimator is a good summary of the distribution "
   ]
  },
  {
   "cell_type": "code",
   "execution_count": null,
   "metadata": {},
   "outputs": [],
   "source": [
    "estimation"
   ]
  },
  {
   "cell_type": "code",
   "execution_count": null,
   "metadata": {},
   "outputs": [],
   "source": []
  }
 ],
 "metadata": {
  "kernelspec": {
   "display_name": "Python 3",
   "language": "python",
   "name": "python3"
  },
  "language_info": {
   "codemirror_mode": {
    "name": "ipython",
    "version": 3
   },
   "file_extension": ".py",
   "mimetype": "text/x-python",
   "name": "python",
   "nbconvert_exporter": "python",
   "pygments_lexer": "ipython3",
   "version": "3.6.5"
  }
 },
 "nbformat": 4,
 "nbformat_minor": 2
}
