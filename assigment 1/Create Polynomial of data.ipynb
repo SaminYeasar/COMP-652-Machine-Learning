{
 "cells": [
  {
   "cell_type": "code",
   "execution_count": null,
   "metadata": {},
   "outputs": [],
   "source": [
    "def getfeaturematrix (X,polynomial):\n",
    "    Xm = []\n",
    "    for i in range(0,polynomial+1):\n",
    "        a = np.power(X,i)\n",
    "        Xm.append(a)\n",
    "    Xm = np.array(Xm)\n",
    "    Xm = np.squeeze(Xm, axis=(2,)).T\n",
    "    return Xm"
   ]
  },
  {
   "cell_type": "code",
   "execution_count": null,
   "metadata": {},
   "outputs": [],
   "source": [
    "Xm_train = getfeaturematrix (X_train,20)\n",
    "feature_no = Xm_train.shape[1]\n",
    "print(Xm_train.shape)\n",
    "\n",
    "Xm_valid = getfeaturematrix (X_valid,20)\n",
    "print(Xm_valid.shape)"
   ]
  }
 ],
 "metadata": {
  "kernelspec": {
   "display_name": "Python 3",
   "language": "python",
   "name": "python3"
  },
  "language_info": {
   "codemirror_mode": {
    "name": "ipython",
    "version": 3
   },
   "file_extension": ".py",
   "mimetype": "text/x-python",
   "name": "python",
   "nbconvert_exporter": "python",
   "pygments_lexer": "ipython3",
   "version": "3.6.5"
  }
 },
 "nbformat": 4,
 "nbformat_minor": 2
}
