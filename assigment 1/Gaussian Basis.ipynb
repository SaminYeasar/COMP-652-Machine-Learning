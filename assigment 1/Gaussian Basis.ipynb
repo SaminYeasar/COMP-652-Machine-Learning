{
 "cells": [
  {
   "cell_type": "code",
   "execution_count": 1,
   "metadata": {},
   "outputs": [],
   "source": [
    "import numpy as np"
   ]
  },
  {
   "cell_type": "markdown",
   "metadata": {},
   "source": [
    "$ \\phi_j(X) = \\exp^{-(\\frac{(X-\\mu_j)^2}{\\sigma^2})}$\n",
    "* $\\mu_j$ controls the position along x-axis and varies from (-1,1). \n",
    "* $\\sigma$ controls width/spacing"
   ]
  },
  {
   "cell_type": "code",
   "execution_count": 4,
   "metadata": {},
   "outputs": [
    {
     "name": "stdout",
     "output_type": "stream",
     "text": [
      "[[1.4 1.9]\n",
      " [4.5 5.3]]\n",
      "(2, 2)\n"
     ]
    }
   ],
   "source": [
    "X = np.array( [[1.4 , 1.9],[4.5,5.3]] )\n",
    "print(X)\n",
    "print(X.shape)"
   ]
  },
  {
   "cell_type": "code",
   "execution_count": 3,
   "metadata": {},
   "outputs": [
    {
     "name": "stdout",
     "output_type": "stream",
     "text": [
      "[[-1.  -0.5  0.   0.5  1. ]]\n",
      "(1, 5)\n"
     ]
    }
   ],
   "source": [
    "mu=np.linspace(-1,1,5).reshape(1,-1)\n",
    "print(mu)\n",
    "print(mu.shape)"
   ]
  },
  {
   "cell_type": "code",
   "execution_count": 5,
   "metadata": {},
   "outputs": [
    {
     "data": {
      "text/plain": [
       "array([[1.4, 1.4, 1.4, 1.4, 1.4, 1.9, 1.9, 1.9, 1.9, 1.9],\n",
       "       [4.5, 4.5, 4.5, 4.5, 4.5, 5.3, 5.3, 5.3, 5.3, 5.3]])"
      ]
     },
     "execution_count": 5,
     "metadata": {},
     "output_type": "execute_result"
    }
   ],
   "source": [
    "a = X.repeat(mu.shape[1],axis=1) \n",
    "a"
   ]
  },
  {
   "cell_type": "code",
   "execution_count": 6,
   "metadata": {},
   "outputs": [
    {
     "data": {
      "text/plain": [
       "array([[-1. , -0.5,  0. ,  0.5,  1. , -1. , -0.5,  0. ,  0.5,  1. ]])"
      ]
     },
     "execution_count": 6,
     "metadata": {},
     "output_type": "execute_result"
    }
   ],
   "source": [
    "b = np.tile(mu,X.shape[1])\n",
    "b"
   ]
  },
  {
   "cell_type": "code",
   "execution_count": 14,
   "metadata": {},
   "outputs": [
    {
     "data": {
      "text/plain": [
       "array([[7.02066780e-251, 1.65841048e-157, 7.55581902e-086,\n",
       "        6.63967720e-036, 1.12535175e-007, 0.00000000e+000,\n",
       "        7.02066780e-251, 1.65841048e-157, 7.55581902e-086,\n",
       "        6.63967720e-036],\n",
       "       [0.00000000e+000, 0.00000000e+000, 0.00000000e+000,\n",
       "        0.00000000e+000, 0.00000000e+000, 0.00000000e+000,\n",
       "        0.00000000e+000, 0.00000000e+000, 0.00000000e+000,\n",
       "        0.00000000e+000]])"
      ]
     },
     "execution_count": 14,
     "metadata": {},
     "output_type": "execute_result"
    }
   ],
   "source": [
    "np.exp((-1)*( ((a-b)**2)/(sigma**2) ))"
   ]
  },
  {
   "cell_type": "code",
   "execution_count": 16,
   "metadata": {},
   "outputs": [],
   "source": [
    "def gaussian_basis (X,mu,sigma):\n",
    "    a = X.repeat(mu.shape[1],axis=1) \n",
    "    b = np.tile(mu,X.shape[1])\n",
    "    phi  = np.exp ( (-1)*( (a-b)**2/(sigma**2) ) )\n",
    "    return phi"
   ]
  },
  {
   "cell_type": "code",
   "execution_count": 9,
   "metadata": {},
   "outputs": [
    {
     "data": {
      "text/plain": [
       "array([[7.02066780e-251, 1.65841048e-157, 7.55581902e-086,\n",
       "        6.63967720e-036, 1.12535175e-007, 0.00000000e+000,\n",
       "        7.02066780e-251, 1.65841048e-157, 7.55581902e-086,\n",
       "        6.63967720e-036],\n",
       "       [0.00000000e+000, 0.00000000e+000, 0.00000000e+000,\n",
       "        0.00000000e+000, 0.00000000e+000, 0.00000000e+000,\n",
       "        0.00000000e+000, 0.00000000e+000, 0.00000000e+000,\n",
       "        0.00000000e+000]])"
      ]
     },
     "execution_count": 9,
     "metadata": {},
     "output_type": "execute_result"
    }
   ],
   "source": [
    "sigma = 0.1\n",
    "gaussian_basis (X,mu,sigma)"
   ]
  },
  {
   "cell_type": "code",
   "execution_count": null,
   "metadata": {},
   "outputs": [],
   "source": []
  }
 ],
 "metadata": {
  "kernelspec": {
   "display_name": "Python 3",
   "language": "python",
   "name": "python3"
  },
  "language_info": {
   "codemirror_mode": {
    "name": "ipython",
    "version": 3
   },
   "file_extension": ".py",
   "mimetype": "text/x-python",
   "name": "python",
   "nbconvert_exporter": "python",
   "pygments_lexer": "ipython3",
   "version": "3.6.5"
  }
 },
 "nbformat": 4,
 "nbformat_minor": 2
}
