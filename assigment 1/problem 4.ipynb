{
 "cells": [
  {
   "cell_type": "markdown",
   "metadata": {},
   "source": [
    "#############################\n",
    "\n",
    "\n",
    "# 4. Multivariate Regression\n",
    "\n",
    "\n",
    "#############################"
   ]
  },
  {
   "cell_type": "markdown",
   "metadata": {},
   "source": [
    "#################\n",
    "\n",
    "## Answer 4(a)\n",
    "\n",
    "#################"
   ]
  },
  {
   "cell_type": "markdown",
   "metadata": {},
   "source": [
    "input-output training data $ \\{(x_i,y_i) \\}^m_{i=1} $ where each $x_i$ is a $d$-dimensional vector and each $y_i$ is a $p$-dimensional vector, meaning for each example of feature $x_i$ we get $p$ number of possible outputs. Thus $X$ is $m\\times d $ dimensinal and $Y$ is $m \\times p$ dimensional.\n",
    "As we know $$Y=\\phi(X) W$$\n",
    "Assuming $\\phi(X)$ remains same dimension as $X$, $W$ would be $d \\times p$ dimensional.\n",
    "For single output case, squared error loss function was\n",
    "\\begin{align}\n",
    "    J(W) = & \\sum_{i=1}^m || W^T x_i - y_i ||^2_2 \\\\\n",
    "    J(W) = &  || X W - y ||^2_2 \\\\\n",
    "    \\bigtriangledown_W J= & \\bigtriangledown_W \\Big[ (XW-Y)^T (XW-Y) \\Big]\n",
    "\\end{align}\n",
    "Where W was $d \\times 1$ dimensional.\n",
    "\n",
    "But now for multiple outputs of $y_i$, assuming outputs are independet of prior, \n",
    "\n",
    "squared error loss function for each possible $p$ output will be :\n",
    "\\begin{align}\n",
    "    J(W_p) = &  || X W_p - y_p ||^2_2 \\\\\n",
    "     \\bigtriangledown_{W_p} J= & \\bigtriangledown_{W_p} \\Big[ (XW-Y)^T (XW-Y) \\Big] \\\\\n",
    "                            = & X^TX W_p -X^T y_p = 0 \\\\\n",
    "    thus, \\, W_p = & (X^TX)^{-1} X^T y_p                        \n",
    "\\end{align}\n",
    "\n"
   ]
  },
  {
   "cell_type": "markdown",
   "metadata": {},
   "source": [
    "#####################\n",
    "\n",
    "## Answer 4(b)\n",
    "\n",
    "#####################"
   ]
  },
  {
   "cell_type": "markdown",
   "metadata": {},
   "source": [
    "From the proof above we can say that if we independently solve $p$ classical linear regression an and get $W$ parameter $p$ times, we solve the multivariate regression task."
   ]
  },
  {
   "cell_type": "markdown",
   "metadata": {},
   "source": [
    "In this problem we assumed outputs are independent of prior but in baysian approximation where we have a prior on output, for multivate output we need to consider all the output prior for future $W$ parameter updates and thus can't calculate posterior output inpendently.\n",
    "\n",
    "consider noisy conversation $y = f(x) + \\epsilon = \\phi(x)^T w + \\epsilon$\n",
    "according to bayes rules:\n",
    "\n",
    "$ P_\\phi(w|y,X) = \\frac{ P_\\phi(y|X,w)P(w) }{P_\\phi(y|X) } $"
   ]
  },
  {
   "cell_type": "markdown",
   "metadata": {},
   "source": [
    "$L = ||Y - XW||^2$\n",
    "\n",
    "\n",
    "$W = (X^TX)^{-1}X^TY$\n",
    "\n",
    "$L = ||Y - XW||^2 + ||XW - XW_R||^2$"
   ]
  },
  {
   "cell_type": "code",
   "execution_count": null,
   "metadata": {},
   "outputs": [],
   "source": []
  }
 ],
 "metadata": {
  "kernelspec": {
   "display_name": "Python 3",
   "language": "python",
   "name": "python3"
  },
  "language_info": {
   "codemirror_mode": {
    "name": "ipython",
    "version": 3
   },
   "file_extension": ".py",
   "mimetype": "text/x-python",
   "name": "python",
   "nbconvert_exporter": "python",
   "pygments_lexer": "ipython3",
   "version": "3.6.5"
  }
 },
 "nbformat": 4,
 "nbformat_minor": 2
}
